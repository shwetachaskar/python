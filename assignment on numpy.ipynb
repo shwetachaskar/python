{
 "cells": [
  {
   "cell_type": "code",
   "execution_count": 2,
   "metadata": {},
   "outputs": [],
   "source": [
    "import numpy as np"
   ]
  },
  {
   "cell_type": "code",
   "execution_count": 3,
   "metadata": {},
   "outputs": [
    {
     "name": "stdout",
     "output_type": "stream",
     "text": [
      "[[1. 1. 1. 1. 1.]\n",
      " [1. 0. 0. 0. 1.]\n",
      " [1. 0. 9. 0. 1.]\n",
      " [1. 0. 0. 0. 1.]\n",
      " [1. 1. 1. 1. 1.]]\n"
     ]
    }
   ],
   "source": [
    "a=np.matrix(np.ones((5,5)))\n",
    "np.asarray(a)[1][1]=0\n",
    "np.asarray(a)[1][2]=0\n",
    "np.asarray(a)[1][3]=0\n",
    "np.asarray(a)[2][1]=0\n",
    "np.asarray(a)[2][2]=9\n",
    "np.asarray(a)[2][3]=0\n",
    "np.asarray(a)[3][1]=0\n",
    "np.asarray(a)[3][2]=0\n",
    "np.asarray(a)[3][3]=0\n",
    "print(a)"
   ]
  },
  {
   "cell_type": "code",
   "execution_count": 4,
   "metadata": {},
   "outputs": [
    {
     "name": "stdout",
     "output_type": "stream",
     "text": [
      "[[ 1  2  3  4  5]\n",
      " [ 6  7  8  9 10]\n",
      " [11 12 13 14 15]\n",
      " [16 17 18 19 20]\n",
      " [21 22 23 24 25]\n",
      " [26 27 28 29 30]]\n"
     ]
    }
   ],
   "source": [
    "a=np.array([1,2,3,4,5])\n",
    "b=np.array([6,7,8,9,10])\n",
    "c=np.array([11,12,13,14,15])\n",
    "d=np.array([16,17,18,19,20])\n",
    "e=np.array([21,22,23,24,25])\n",
    "f=np.array([26,27,28,29,30])\n",
    "z=np.vstack((a,b,c,d,e,f))\n",
    "print(z)"
   ]
  },
  {
   "cell_type": "code",
   "execution_count": 5,
   "metadata": {},
   "outputs": [
    {
     "name": "stdout",
     "output_type": "stream",
     "text": [
      "[4 5] [24 25] [29 30]\n",
      "[11 12] [16 17]\n",
      "[ 2  8 14 20]\n"
     ]
    }
   ],
   "source": [
    "print(z[[0],[3,4]],z[[4],[3,4]],z[[5],[3,4]])\n",
    "print(z[[2],[0,1]],z[[3],[0,1]])\n",
    "print(z.diagonal(1))"
   ]
  },
  {
   "cell_type": "code",
   "execution_count": null,
   "metadata": {},
   "outputs": [],
   "source": []
  }
 ],
 "metadata": {
  "kernelspec": {
   "display_name": "Python 3",
   "language": "python",
   "name": "python3"
  },
  "language_info": {
   "codemirror_mode": {
    "name": "ipython",
    "version": 3
   },
   "file_extension": ".py",
   "mimetype": "text/x-python",
   "name": "python",
   "nbconvert_exporter": "python",
   "pygments_lexer": "ipython3",
   "version": "3.7.3"
  }
 },
 "nbformat": 4,
 "nbformat_minor": 2
}
