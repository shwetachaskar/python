{
 "cells": [
  {
   "cell_type": "code",
   "execution_count": 7,
   "metadata": {},
   "outputs": [],
   "source": []
  },
  {
   "cell_type": "code",
   "execution_count": 8,
   "metadata": {},
   "outputs": [
    {
     "name": "stdout",
     "output_type": "stream",
     "text": [
      "enter a number:9892928287\n",
      "this is valid\n"
     ]
    }
   ],
   "source": [
    "import re\n",
    "while True:\n",
    "    try:\n",
    "        num=int(input(\"enter a number:\"))\n",
    "        break\n",
    "        pattern=re.compile(\"(0/91)?[7-9][0-9]{9}\")\n",
    "    except ValueError:\n",
    "        print(\"this is invalid\")\n",
    "print(\"this is valid\")        "
   ]
  },
  {
   "cell_type": "code",
   "execution_count": 6,
   "metadata": {},
   "outputs": [
    {
     "name": "stdout",
     "output_type": "stream",
     "text": [
      "Invalid Number\n"
     ]
    }
   ],
   "source": [
    "import re \n",
    "  \n",
    "def isValid(s): \n",
    "    Pattern = re.compile(\"(0/91)?[7-9][0-9]{9}\") \n",
    "    return Pattern.match(s) \n",
    "  \n",
    "s = \"52698451275\"\n",
    "if (isValid(s)):  \n",
    "    print (\"Valid Number\")      \n",
    "else : \n",
    "    print (\"Invalid Number\")  "
   ]
  },
  {
   "cell_type": "code",
   "execution_count": 9,
   "metadata": {},
   "outputs": [
    {
     "name": "stdout",
     "output_type": "stream",
     "text": [
      "select operation.\n",
      "ADD\n",
      "SUB\n",
      "MUL\n",
      "DIV\n",
      "enter a number:5\n",
      "enter a number:6\n",
      "enter choice(ADD/SUB/MUL/DIV:MUL\n",
      "5.0 * 6.0 = 30.0\n"
     ]
    }
   ],
   "source": [
    "try:\n",
    "    def addition(a,b):\n",
    "        return a+b\n",
    "    def subtraction(a,b):\n",
    "        return a-b\n",
    "    def multiplication(a,b):\n",
    "        return a*b\n",
    "    def division(a,b):\n",
    "        return a/b\n",
    "\n",
    "    print(\"select operation.\")\n",
    "    print(\"ADD\")\n",
    "    print(\"SUB\")\n",
    "    print(\"MUL\")\n",
    "    print(\"DIV\")\n",
    "\n",
    "\n",
    "    x=float(input(\"enter a number:\"))\n",
    "    y=float(input(\"enter a number:\"))\n",
    "    choice=input(\"enter choice(ADD/SUB/MUL/DIV:\")\n",
    "\n",
    "\n",
    "    if choice==\"ADD\":\n",
    "        print(x, \"+\", y,\"=\", addition(x,y))\n",
    "    \n",
    "    if choice==\"SUB\":\n",
    "        print(x, \"-\", y,\"=\", subtraction(x,y)) \n",
    "    \n",
    "    if choice==\"MUL\":\n",
    "        print(x, \"*\", y,\"=\", multiplication(x,y))\n",
    "    \n",
    "    if choice==\"DIV\":\n",
    "        print(x, \"/\", y,\"=\", division(x,y))   \n",
    "    \n",
    "except ValuError:\n",
    "    print(\"such operation does not exit\")\n",
    "    "
   ]
  },
  {
   "cell_type": "code",
   "execution_count": 10,
   "metadata": {},
   "outputs": [
    {
     "name": "stdout",
     "output_type": "stream",
     "text": [
      "true\n",
      "true\n",
      "false\n"
     ]
    }
   ],
   "source": [
    "list=[5,5,3,6,4]\n",
    "list1=[4,2,5,6,2]\n",
    "list2=[3,4,5,6,1]\n",
    "\n",
    "if list.index(4)==0:\n",
    "    print(\"true\")\n",
    "elif list.index(4)==4:\n",
    "    print(\"true\")\n",
    "else:\n",
    "    print(\"false\")\n",
    "    \n",
    "if list1.index(4)==0:\n",
    "    print(\"true\")\n",
    "elif list1.index(4)==4:\n",
    "    print(\"true\")\n",
    "else:\n",
    "    print(\"false\")\n",
    "    \n",
    "if list2.index(4)==0:\n",
    "    print(\"true\")\n",
    "elif list2.index(4)==4:\n",
    "    print(\"true\")\n",
    "else:\n",
    "    print(\"false\")    "
   ]
  },
  {
   "cell_type": "code",
   "execution_count": null,
   "metadata": {},
   "outputs": [],
   "source": []
  }
 ],
 "metadata": {
  "kernelspec": {
   "display_name": "Python 3",
   "language": "python",
   "name": "python3"
  },
  "language_info": {
   "codemirror_mode": {
    "name": "ipython",
    "version": 3
   },
   "file_extension": ".py",
   "mimetype": "text/x-python",
   "name": "python",
   "nbconvert_exporter": "python",
   "pygments_lexer": "ipython3",
   "version": "3.7.4"
  }
 },
 "nbformat": 4,
 "nbformat_minor": 2
}
