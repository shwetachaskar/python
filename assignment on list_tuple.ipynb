{
 "cells": [
  {
   "cell_type": "code",
   "execution_count": 3,
   "metadata": {},
   "outputs": [
    {
     "name": "stdout",
     "output_type": "stream",
     "text": [
      "Maruti\n"
     ]
    }
   ],
   "source": [
    "cars=[('Ford','Maruti',3),('Santro','Swift',4)]\n",
    "print(cars[0][1])"
   ]
  },
  {
   "cell_type": "code",
   "execution_count": 7,
   "metadata": {},
   "outputs": [
    {
     "name": "stdout",
     "output_type": "stream",
     "text": [
      "updated list: [(3, 5), (7, 9), (11, 13), (17, 19)]\n"
     ]
    }
   ],
   "source": [
    "values=[(3,5),(7,9),(11,13)]\n",
    "num_tuple=(17,19)\n",
    "values.insert(3, num_tuple)\n",
    "print('updated list:', values)"
   ]
  },
  {
   "cell_type": "code",
   "execution_count": 11,
   "metadata": {},
   "outputs": [
    {
     "name": "stdout",
     "output_type": "stream",
     "text": [
      "name: TATA\n",
      "shares: 50\n",
      "price: 90.1\n",
      "date: (2018, 12, 21)\n"
     ]
    }
   ],
   "source": [
    "data={'name':'TATA','shares':50,'price':90.1,'date':(2018,12,21)}\n",
    "print('name:', data['name'])\n",
    "print('shares:', data['shares'])\n",
    "print('price:', data['price'])\n",
    "print('date:', data['date'])"
   ]
  },
  {
   "cell_type": "code",
   "execution_count": 2,
   "metadata": {},
   "outputs": [
    {
     "name": "stdout",
     "output_type": "stream",
     "text": [
      "Welcome To Future Teller! I Shall Tell Your Fortune!\n",
      "Enter your name and well tell you which job suits your personality:sneha\n",
      "CEO\n"
     ]
    }
   ],
   "source": [
    "import random\n",
    "thislist=['ENGINEER','DOCTOR','LAWYER','CEO','FASHION DESIGNER','ACTOR/ACTRESS','MODEL','PAINTER','PILOT']\n",
    "print(\"Welcome To Future Teller! I Shall Tell Your Fortune!\")\n",
    "name=input(\"Enter your name and well tell you which job suits your personality:\")\n",
    "print(random.choice(thislist))"
   ]
  },
  {
   "cell_type": "code",
   "execution_count": null,
   "metadata": {},
   "outputs": [],
   "source": []
  }
 ],
 "metadata": {
  "kernelspec": {
   "display_name": "Python 3",
   "language": "python",
   "name": "python3"
  },
  "language_info": {
   "codemirror_mode": {
    "name": "ipython",
    "version": 3
   },
   "file_extension": ".py",
   "mimetype": "text/x-python",
   "name": "python",
   "nbconvert_exporter": "python",
   "pygments_lexer": "ipython3",
   "version": "3.7.3"
  }
 },
 "nbformat": 4,
 "nbformat_minor": 2
}
