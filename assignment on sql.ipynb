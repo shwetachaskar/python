{
 "cells": [
  {
   "cell_type": "code",
   "execution_count": 5,
   "metadata": {},
   "outputs": [],
   "source": [
    "import sqlalchemy\n",
    "from sqlalchemy import create_engine\n",
    "engine=create_engine('sqlite:///Invoice.db', echo=True)\n",
    "from sqlalchemy import MetaData\n",
    "meta=MetaData()"
   ]
  },
  {
   "cell_type": "code",
   "execution_count": 6,
   "metadata": {},
   "outputs": [],
   "source": [
    "from sqlalchemy import Table,Column,Integer,String,MetaData\n",
    "meta=MetaData()\n",
    "\n",
    "customerr=Table(\n",
    "    'customerr',meta,\n",
    "    Column('Invoice_Id',Integer,primary_key=True),\n",
    "    Column('Customer_Id',Integer,primary_key=True),\n",
    "    Column('Invoice_Date',Integer),\n",
    "    Column('Billing_Address',String),\n",
    "    Column('Billing_City',String),\n",
    "    Column('Billing_State',String),\n",
    "    Column('Billing_Country',String),\n",
    "    Column('Billing_Postal_Code',Integer,primary_key=True),\n",
    "    \n",
    ")"
   ]
  },
  {
   "cell_type": "code",
   "execution_count": 7,
   "metadata": {},
   "outputs": [
    {
     "name": "stdout",
     "output_type": "stream",
     "text": [
      "2019-10-12 20:42:44,686 INFO sqlalchemy.engine.base.Engine SELECT CAST('test plain returns' AS VARCHAR(60)) AS anon_1\n",
      "2019-10-12 20:42:44,689 INFO sqlalchemy.engine.base.Engine ()\n",
      "2019-10-12 20:42:44,697 INFO sqlalchemy.engine.base.Engine SELECT CAST('test unicode returns' AS VARCHAR(60)) AS anon_1\n",
      "2019-10-12 20:42:44,699 INFO sqlalchemy.engine.base.Engine ()\n",
      "2019-10-12 20:42:44,702 INFO sqlalchemy.engine.base.Engine PRAGMA table_info(\"customerr\")\n",
      "2019-10-12 20:42:44,705 INFO sqlalchemy.engine.base.Engine ()\n",
      "2019-10-12 20:42:44,712 INFO sqlalchemy.engine.base.Engine \n",
      "CREATE TABLE customerr (\n",
      "\t\"Invoice_Id\" INTEGER NOT NULL, \n",
      "\t\"Customer_Id\" INTEGER NOT NULL, \n",
      "\t\"Invoice_Date\" INTEGER, \n",
      "\t\"Billing_Address\" VARCHAR, \n",
      "\t\"Billing_City\" VARCHAR, \n",
      "\t\"Billing_State\" VARCHAR, \n",
      "\t\"Billing_Country\" VARCHAR, \n",
      "\t\"Billing_Postal_Code\" INTEGER NOT NULL, \n",
      "\tPRIMARY KEY (\"Invoice_Id\", \"Customer_Id\", \"Billing_Postal_Code\")\n",
      ")\n",
      "\n",
      "\n",
      "2019-10-12 20:42:44,714 INFO sqlalchemy.engine.base.Engine ()\n",
      "2019-10-12 20:42:44,990 INFO sqlalchemy.engine.base.Engine COMMIT\n"
     ]
    }
   ],
   "source": [
    "meta.create_all(engine)"
   ]
  },
  {
   "cell_type": "code",
   "execution_count": 8,
   "metadata": {},
   "outputs": [
    {
     "name": "stdout",
     "output_type": "stream",
     "text": [
      "2019-10-12 20:43:05,277 INFO sqlalchemy.engine.base.Engine INSERT INTO customerr (\"Invoice_Id\", \"Customer_Id\", \"Invoice_Date\", \"Billing_Address\", \"Billing_City\", \"Billing_State\", \"Billing_Country\", \"Billing_Postal_Code\") VALUES (?, ?, ?, ?, ?, ?, ?, ?)\n",
      "2019-10-12 20:43:05,282 INFO sqlalchemy.engine.base.Engine ('1234', '1111', '1/1/2019', '400/Renuka socitey', 'Mumbai', 'Maharashtra', 'India', '10001')\n",
      "2019-10-12 20:43:05,290 INFO sqlalchemy.engine.base.Engine COMMIT\n"
     ]
    }
   ],
   "source": [
    "ins=customerr.insert()\n",
    "ins=customerr.insert().values(Invoice_Id='1234',Customer_Id='1111',Invoice_Date='1/1/2019',Billing_Address='400/Renuka socitey',Billing_City='Mumbai',Billing_State='Maharashtra',Billing_Country='India',Billing_Postal_Code='10001')\n",
    "conn=engine.connect()\n",
    "result=conn.execute(ins)"
   ]
  },
  {
   "cell_type": "code",
   "execution_count": 9,
   "metadata": {},
   "outputs": [
    {
     "name": "stdout",
     "output_type": "stream",
     "text": [
      "2019-10-12 20:43:11,414 INFO sqlalchemy.engine.base.Engine INSERT INTO customerr (\"Invoice_Id\", \"Customer_Id\", \"Invoice_Date\", \"Billing_Address\", \"Billing_City\", \"Billing_State\", \"Billing_Country\", \"Billing_Postal_Code\") VALUES (?, ?, ?, ?, ?, ?, ?, ?)\n",
      "2019-10-12 20:43:11,418 INFO sqlalchemy.engine.base.Engine (('1235', '2222', '1/1/2019', '401/Renuka socitey', 'Mumbai', 'Maharashtra', 'India', '10002'), ('1236', '3333', '1/1/2019', '402/Renuka socitey', 'Mumbai', 'Maharashtra', 'India', '10003'), ('1237', '4444', '1/1/2019', '403/Renuka socitey', 'Mumbai', 'Maharashtra', 'India', '10004'), ('1238', '5555', '1/1/2019', '404/Renuka socitey', 'Mumbai', 'Maharashtra', 'India', '10005'), ('1239', '6666', '1/1/2019', '405/Renuka socitey', 'Mumbai', 'Maharashtra', 'India', '10006'), ('1240', '7777', '1/1/2019', '406/Renuka socitey', 'Mumbai', 'Maharashtra', 'India', '10007'), ('1241', '8888', '1/1/2019', '407/Renuka socitey', 'Mumbai', 'Maharashtra', 'India', '10008'), ('1242', '9999', '1/1/2019', '408/Renuka socitey', 'Mumbai', 'Maharashtra', 'India', '10009'), ('1243', '1010', '1/1/2019', '409/Renuka socitey', 'Mumbai', 'Maharashtra', 'India', '10010'))\n",
      "2019-10-12 20:43:11,424 INFO sqlalchemy.engine.base.Engine COMMIT\n"
     ]
    },
    {
     "data": {
      "text/plain": [
       "<sqlalchemy.engine.result.ResultProxy at 0x4c86f60>"
      ]
     },
     "execution_count": 9,
     "metadata": {},
     "output_type": "execute_result"
    }
   ],
   "source": [
    "conn.execute(customerr.insert(),[\n",
    "  {'Invoice_Id':'1235','Customer_Id':'2222','Invoice_Date':'1/1/2019','Billing_Address':'401/Renuka socitey','Billing_City':'Mumbai','Billing_State':'Maharashtra','Billing_Country':'India','Billing_Postal_Code':'10002'},\n",
    "  {'Invoice_Id':'1236','Customer_Id':'3333','Invoice_Date':'1/1/2019','Billing_Address':'402/Renuka socitey','Billing_City':'Mumbai','Billing_State':'Maharashtra','Billing_Country':'India','Billing_Postal_Code':'10003'},\n",
    "  {'Invoice_Id':'1237','Customer_Id':'4444','Invoice_Date':'1/1/2019','Billing_Address':'403/Renuka socitey','Billing_City':'Mumbai','Billing_State':'Maharashtra','Billing_Country':'India','Billing_Postal_Code':'10004'},\n",
    "  {'Invoice_Id':'1238','Customer_Id':'5555','Invoice_Date':'1/1/2019','Billing_Address':'404/Renuka socitey','Billing_City':'Mumbai','Billing_State':'Maharashtra','Billing_Country':'India','Billing_Postal_Code':'10005'},\n",
    "  {'Invoice_Id':'1239','Customer_Id':'6666','Invoice_Date':'1/1/2019','Billing_Address':'405/Renuka socitey','Billing_City':'Mumbai','Billing_State':'Maharashtra','Billing_Country':'India','Billing_Postal_Code':'10006'},\n",
    "  {'Invoice_Id':'1240','Customer_Id':'7777','Invoice_Date':'1/1/2019','Billing_Address':'406/Renuka socitey','Billing_City':'Mumbai','Billing_State':'Maharashtra','Billing_Country':'India','Billing_Postal_Code':'10007'},\n",
    "  {'Invoice_Id':'1241','Customer_Id':'8888','Invoice_Date':'1/1/2019','Billing_Address':'407/Renuka socitey','Billing_City':'Mumbai','Billing_State':'Maharashtra','Billing_Country':'India','Billing_Postal_Code':'10008'},\n",
    "  {'Invoice_Id':'1242','Customer_Id':'9999','Invoice_Date':'1/1/2019','Billing_Address':'408/Renuka socitey','Billing_City':'Mumbai','Billing_State':'Maharashtra','Billing_Country':'India','Billing_Postal_Code':'10009'},\n",
    "  {'Invoice_Id':'1243','Customer_Id':'1010','Invoice_Date':'1/1/2019','Billing_Address':'409/Renuka socitey','Billing_City':'Mumbai','Billing_State':'Maharashtra','Billing_Country':'India','Billing_Postal_Code':'10010'},  \n",
    "])\n"
   ]
  },
  {
   "cell_type": "code",
   "execution_count": null,
   "metadata": {},
   "outputs": [],
   "source": []
  }
 ],
 "metadata": {
  "kernelspec": {
   "display_name": "Python 3",
   "language": "python",
   "name": "python3"
  },
  "language_info": {
   "codemirror_mode": {
    "name": "ipython",
    "version": 3
   },
   "file_extension": ".py",
   "mimetype": "text/x-python",
   "name": "python",
   "nbconvert_exporter": "python",
   "pygments_lexer": "ipython3",
   "version": "3.7.3"
  }
 },
 "nbformat": 4,
 "nbformat_minor": 2
}
