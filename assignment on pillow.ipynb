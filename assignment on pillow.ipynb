{
 "cells": [
  {
   "cell_type": "code",
   "execution_count": 2,
   "metadata": {},
   "outputs": [],
   "source": [
    "from PIL import Image"
   ]
  },
  {
   "cell_type": "markdown",
   "metadata": {},
   "source": [
    "# TYPE:1"
   ]
  },
  {
   "cell_type": "code",
   "execution_count": 38,
   "metadata": {},
   "outputs": [],
   "source": [
    "image=Image.open('ideator.jpg')\n",
    "image.thumbnail((150,150))\n",
    "image.save('ideator_thumbnail.png')\n",
    "image=Image.open('ideator_thumbnail.png')\n",
    "image.show()"
   ]
  },
  {
   "cell_type": "code",
   "execution_count": 52,
   "metadata": {},
   "outputs": [],
   "source": [
    "image=Image.open('classroom.jpg')\n",
    "image2=Image.open('ideator_thumbnail.png')\n",
    "image_c=image.copy()\n",
    "image_c.paste(image_2,(630,10))           #dimension(left,top)\n",
    "image_c.save('imge.png')\n",
    "image_c.show()"
   ]
  },
  {
   "cell_type": "markdown",
   "metadata": {},
   "source": [
    "# TYPE:2"
   ]
  },
  {
   "cell_type": "code",
   "execution_count": 41,
   "metadata": {},
   "outputs": [],
   "source": [
    "from PIL import Image\n",
    "import requests "
   ]
  },
  {
   "cell_type": "code",
   "execution_count": 55,
   "metadata": {},
   "outputs": [],
   "source": [
    "raw_data=requests.get('https://directory.edugorilla.com/wp-content/uploads/sites/6/2016/11/4567-70b183a7-5e3d-4302-b6ee-2c955d991653.jpg')\n",
    "with open(name,'wb') as x:              \n",
    "    x.write(raw_data.content)\n",
    "image_2=Image.open('ideator_thumbnail.png')\n",
    "image_c=image.copy()\n",
    "image_c.paste(image_2,(630,10))    #dimension(left,top)\n",
    "image_c.save('img.png')\n",
    "image_c.show()"
   ]
  },
  {
   "cell_type": "code",
   "execution_count": 53,
   "metadata": {},
   "outputs": [],
   "source": [
    "from PIL import Image\n",
    "from PIL import ImageDraw\n",
    "from PIL import ImageFont\n",
    "import requests "
   ]
  },
  {
   "cell_type": "code",
   "execution_count": 98,
   "metadata": {},
   "outputs": [],
   "source": [
    "raw_data=requests.get('https://picsum.photos/500/500?random')\n",
    "name='image.png'\n",
    "with open(name,'wb') as x:             \n",
    "    x.write(raw_data.content)\n",
    "image=Image.open(name) \n",
    "draw=ImageDraw.Draw(image)\n",
    "fontx=ImageFont.truetype('arial',55)\n",
    "draw.text((100,100),'Hello Pillow',(10,100,100),font=fontx)  \n",
    "draw.rectangle((0,500,500,0),outline='black',fill=None,width=13)\n",
    "draw.rectangle((13,487,487,13),outline='red',fill=None,width=3)\n",
    "image.save('image.png')\n",
    "image.show()"
   ]
  },
  {
   "cell_type": "code",
   "execution_count": 99,
   "metadata": {},
   "outputs": [],
   "source": [
    "from PIL import Image,ImageEnhance"
   ]
  },
  {
   "cell_type": "code",
   "execution_count": 102,
   "metadata": {},
   "outputs": [],
   "source": [
    "image=Image.open('bubbles.jpg')\n",
    "enhancer=ImageEnhance.Sharpness(image)\n",
    "image_enhance=enhancer.enhance(-10).save('bbl.jpg')\n",
    "enhancer2=ImageEnhance.Color(image)\n",
    "image_enhance_Color=enhancer2.enhance(3).save('bbl.jpg')\n",
    "enhancer3=ImageEnhance.Brightness(image)\n",
    "image_enhance_Brightness=enhancer3.enhance(3).save('bbl.jpg')"
   ]
  },
  {
   "cell_type": "code",
   "execution_count": null,
   "metadata": {},
   "outputs": [],
   "source": []
  }
 ],
 "metadata": {
  "kernelspec": {
   "display_name": "Python 3",
   "language": "python",
   "name": "python3"
  },
  "language_info": {
   "codemirror_mode": {
    "name": "ipython",
    "version": 3
   },
   "file_extension": ".py",
   "mimetype": "text/x-python",
   "name": "python",
   "nbconvert_exporter": "python",
   "pygments_lexer": "ipython3",
   "version": "3.7.3"
  }
 },
 "nbformat": 4,
 "nbformat_minor": 2
}
